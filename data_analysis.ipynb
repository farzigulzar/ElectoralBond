{
 "cells": [
  {
   "cell_type": "code",
   "execution_count": null,
   "metadata": {},
   "outputs": [
    {
     "ename": "",
     "evalue": "",
     "output_type": "error",
     "traceback": [
      "\u001b[1;31mThe kernel failed to start as the Python Environment 'STREAMLIT (Python 3.12.2)' is no longer available. Consider selecting another kernel or refreshing the list of Python Environments."
     ]
    }
   ],
   "source": [
    "import pandas as pd\n",
    "import numpy as np\n",
    "from pathlib import Path\n",
    "import matplotlib as mpl\n",
    "import matplotlib.pyplot as plt\n",
    "import seaborn as sns\n",
    "import datetime as dt\n",
    "import streamlit as st\n",
    "pn.extension()"
   ]
  },
  {
   "cell_type": "code",
   "execution_count": null,
   "metadata": {},
   "outputs": [
    {
     "ename": "",
     "evalue": "",
     "output_type": "error",
     "traceback": [
      "\u001b[1;31mThe kernel failed to start as the Python Environment 'STREAMLIT (Python 3.12.2)' is no longer available. Consider selecting another kernel or refreshing the list of Python Environments."
     ]
    }
   ],
   "source": [
    "filepath = Path('Cleaned_merged_data\\\\electoral.csv')\n",
    "df = pd.read_csv(filepath)"
   ]
  },
  {
   "cell_type": "code",
   "execution_count": null,
   "metadata": {},
   "outputs": [
    {
     "ename": "",
     "evalue": "",
     "output_type": "error",
     "traceback": [
      "\u001b[1;31mThe kernel failed to start as the Python Environment 'STREAMLIT (Python 3.12.2)' is no longer available. Consider selecting another kernel or refreshing the list of Python Environments."
     ]
    }
   ],
   "source": [
    "df.head()"
   ]
  },
  {
   "cell_type": "code",
   "execution_count": null,
   "metadata": {},
   "outputs": [
    {
     "ename": "",
     "evalue": "",
     "output_type": "error",
     "traceback": [
      "\u001b[1;31mThe kernel failed to start as the Python Environment 'STREAMLIT (Python 3.12.2)' is no longer available. Consider selecting another kernel or refreshing the list of Python Environments."
     ]
    }
   ],
   "source": [
    "df['Name of the Political Party'].value_counts()"
   ]
  },
  {
   "cell_type": "code",
   "execution_count": null,
   "metadata": {},
   "outputs": [
    {
     "ename": "",
     "evalue": "",
     "output_type": "error",
     "traceback": [
      "\u001b[1;31mThe kernel failed to start as the Python Environment 'STREAMLIT (Python 3.12.2)' is no longer available. Consider selecting another kernel or refreshing the list of Python Environments."
     ]
    }
   ],
   "source": [
    "denom_ = df[['Name of the Political Party', 'Denominations']].groupby('Name of the Political Party').sum().sort_values(by='Denominations',ascending=False)\n",
    "denom_['Percentage'] = (100*denom_['Denominations']/denom_['Denominations'].sum()).reset_index()\n",
    "denom_"
   ]
  },
  {
   "cell_type": "code",
   "execution_count": null,
   "metadata": {},
   "outputs": [
    {
     "ename": "",
     "evalue": "",
     "output_type": "error",
     "traceback": [
      "\u001b[1;31mThe kernel failed to start as the Python Environment 'STREAMLIT (Python 3.12.2)' is no longer available. Consider selecting another kernel or refreshing the list of Python Environments."
     ]
    }
   ],
   "source": [
    "# plot\n",
    "fig, ax =plt.subplots()\n",
    "ax.pie(denom_['Denominations'], labels= denom_.index, autopct='%1.2f%%')\n",
    "ax.legend(loc='upper left',bbox_to_anchor=(2.1, 1))\n",
    "plt.show() \n",
    "# top line"
   ]
  },
  {
   "cell_type": "code",
   "execution_count": null,
   "metadata": {},
   "outputs": [
    {
     "ename": "",
     "evalue": "",
     "output_type": "error",
     "traceback": [
      "\u001b[1;31mThe kernel failed to start as the Python Environment 'STREAMLIT (Python 3.12.2)' is no longer available. Consider selecting another kernel or refreshing the list of Python Environments."
     ]
    }
   ],
   "source": [
    "# for a particular party, show all the donors\n",
    "    #  for a particular party, show all the donations provided across the time period (with a stacked bar chart involving the donors as stacks)\n",
    "party = 'BHARATIYA JANATA PARTY'\n",
    "\n",
    "df[(df['Name of the Political Party']==party) & (df['Name of the Purchaser'].isnull())]['Denominations'].sum()\n",
    "# df['Name of the Political Party']==party) & (df['Issue Teller']==df['Pay Teller']) & df['Date of Purchase']==df['Date of Encashment'] & df['Issue Branch Code']!=df['Pay Branch Code']"
   ]
  },
  {
   "cell_type": "markdown",
   "metadata": {},
   "source": [
    "# Visualisations for not accounted money"
   ]
  },
  {
   "cell_type": "markdown",
   "metadata": {},
   "source": [
    "Observations\n",
    "* All the donations recieved by AIADMK is unaccounted for\n",
    "* "
   ]
  },
  {
   "cell_type": "code",
   "execution_count": null,
   "metadata": {},
   "outputs": [
    {
     "ename": "",
     "evalue": "",
     "output_type": "error",
     "traceback": [
      "\u001b[1;31mThe kernel failed to start as the Python Environment 'STREAMLIT (Python 3.12.2)' is no longer available. Consider selecting another kernel or refreshing the list of Python Environments."
     ]
    }
   ],
   "source": [
    "# df[(df['Name of the Purchaser'].isnull())][['Name of the Political Party','Denominations']].groupby('Name of the Political Party').sum().sort_values(by='Denominations', ascending=False)\n",
    "nan_ = df[(df['Name of the Purchaser'].isnull())]\n",
    "t_ = nan_[['Name of the Political Party', 'Denominations']].groupby('Name of the Political Party').sum().sort_values(by='Denominations', ascending=False).rename(columns={'Denominations':'Not accounted'})\n",
    "t_['Total Denominations'] = denom_['Denominations']\n",
    "t_['%Not accounted denom of total denominations']=100*t_['Not accounted']/t_['Total Denominations']\n",
    "nan_=nan_.sort_values(by ='Date of Encashment')\n",
    "t_"
   ]
  },
  {
   "cell_type": "code",
   "execution_count": null,
   "metadata": {},
   "outputs": [
    {
     "ename": "",
     "evalue": "",
     "output_type": "error",
     "traceback": [
      "\u001b[1;31mThe kernel failed to start as the Python Environment 'STREAMLIT (Python 3.12.2)' is no longer available. Consider selecting another kernel or refreshing the list of Python Environments."
     ]
    }
   ],
   "source": [
    "fig,ax=plt.subplots()\n",
    "ax.pie(t_['Not accounted'], labels = t_.index, autopct='%1.2f%%')\n",
    "plt.show()"
   ]
  },
  {
   "cell_type": "code",
   "execution_count": null,
   "metadata": {},
   "outputs": [
    {
     "ename": "",
     "evalue": "",
     "output_type": "error",
     "traceback": [
      "\u001b[1;31mThe kernel failed to start as the Python Environment 'STREAMLIT (Python 3.12.2)' is no longer available. Consider selecting another kernel or refreshing the list of Python Environments."
     ]
    }
   ],
   "source": [
    "def histplot_sns():\n",
    "    "
   ]
  },
  {
   "cell_type": "code",
   "execution_count": null,
   "metadata": {},
   "outputs": [
    {
     "ename": "",
     "evalue": "",
     "output_type": "error",
     "traceback": [
      "\u001b[1;31mThe kernel failed to start as the Python Environment 'STREAMLIT (Python 3.12.2)' is no longer available. Consider selecting another kernel or refreshing the list of Python Environments."
     ]
    }
   ],
   "source": [
    "party = 'BHARATIYA JANATA PARTY'\n",
    "\n",
    "sns.set_theme(style='ticks')\n",
    "f, ax = plt.subplots()\n",
    "sns.despine(f)\n",
    "\n",
    "sns.histplot(\n",
    "    nan_[['Date of Encashment', 'Name of the Political Party', 'Denominations']].sort_values(by=['Date of Encashment', 'Denominations'], ascending=[True, False]),\n",
    "    x='Date of Encashment',\n",
    "    hue='Name of the Political Party',\n",
    "    multiple='stack',\n",
    "    edgecolor=\".3\",\n",
    "    linewidth=.5\n",
    ")\n",
    "\n",
    "sns.move_legend(ax, \"upper left\", bbox_to_anchor=(1, 1))\n",
    "plt.xticks(rotation='vertical')\n",
    "plt.show()"
   ]
  },
  {
   "cell_type": "code",
   "execution_count": null,
   "metadata": {},
   "outputs": [
    {
     "ename": "",
     "evalue": "",
     "output_type": "error",
     "traceback": [
      "\u001b[1;31mThe kernel failed to start as the Python Environment 'STREAMLIT (Python 3.12.2)' is no longer available. Consider selecting another kernel or refreshing the list of Python Environments."
     ]
    }
   ],
   "source": [
    "nan_[['Date of Encashment', 'Name of the Political Party', ' Denominations']].groupby(by=['Date of Encashment', 'Name of the Political Party']).sum().sort_values(by=['Date of Encashment','Denominations'], ascending=[True,False])"
   ]
  },
  {
   "cell_type": "code",
   "execution_count": null,
   "metadata": {},
   "outputs": [
    {
     "ename": "",
     "evalue": "",
     "output_type": "error",
     "traceback": [
      "\u001b[1;31mThe kernel failed to start as the Python Environment 'STREAMLIT (Python 3.12.2)' is no longer available. Consider selecting another kernel or refreshing the list of Python Environments."
     ]
    }
   ],
   "source": []
  },
  {
   "cell_type": "code",
   "execution_count": null,
   "metadata": {},
   "outputs": [
    {
     "ename": "",
     "evalue": "",
     "output_type": "error",
     "traceback": [
      "\u001b[1;31mThe kernel failed to start as the Python Environment 'STREAMLIT (Python 3.12.2)' is no longer available. Consider selecting another kernel or refreshing the list of Python Environments."
     ]
    }
   ],
   "source": []
  },
  {
   "cell_type": "code",
   "execution_count": null,
   "metadata": {},
   "outputs": [
    {
     "ename": "",
     "evalue": "",
     "output_type": "error",
     "traceback": [
      "\u001b[1;31mThe kernel failed to start as the Python Environment 'STREAMLIT (Python 3.12.2)' is no longer available. Consider selecting another kernel or refreshing the list of Python Environments."
     ]
    }
   ],
   "source": []
  }
 ],
 "metadata": {
  "kernelspec": {
   "display_name": "Python 3 (ipykernel)",
   "language": "python",
   "name": "python3"
  },
  "language_info": {
   "codemirror_mode": {
    "name": "ipython",
    "version": 3
   },
   "file_extension": ".py",
   "mimetype": "text/x-python",
   "name": "python",
   "nbconvert_exporter": "python",
   "pygments_lexer": "ipython3",
   "version": "3.12.2"
  }
 },
 "nbformat": 4,
 "nbformat_minor": 4
}
